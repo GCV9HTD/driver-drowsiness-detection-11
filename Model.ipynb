{
 "cells": [
  {
   "cell_type": "code",
   "execution_count": null,
   "metadata": {
    "colab": {},
    "colab_type": "code",
    "id": "hZJ14JthiksS"
   },
   "outputs": [],
   "source": [
    "## from sklearn.preprocessing import LabelBinarizer\n",
    "from sklearn.model_selection import train_test_split\n",
    "from sklearn.metrics import classification_report\n",
    "import numpy as np\n",
    "import cv2\n",
    "import os\n",
    "from pathlib import Path"
   ]
  },
  {
   "cell_type": "code",
   "execution_count": 0,
   "metadata": {
    "colab": {},
    "colab_type": "code",
    "id": "LKBO28SElXt5"
   },
   "outputs": [],
   "source": [
    "class Preprocessor:\n",
    "    def __init__(self, width, height, interpolAlgo=cv2.INTER_AREA):\n",
    "        self.width = width\n",
    "        self.height = height\n",
    "        self.intterpolAlgo = interpolAlgo\n",
    "\n",
    "    def process(self, image):\n",
    "        return cv2.resize(image, (self.width, self.height), interpolation=self.intterpolAlgo)"
   ]
  },
  {
   "cell_type": "code",
   "execution_count": 0,
   "metadata": {
    "colab": {},
    "colab_type": "code",
    "id": "VbfQJ1OOlaV6"
   },
   "outputs": [],
   "source": [
    "\n",
    "\n",
    "\n",
    "class Dataloader:\n",
    "    def __init__(self, preprocessors=None):\n",
    "        self.preprocessors = preprocessors\n",
    "\n",
    "        if self.preprocessors is None:\n",
    "            self.preprocessors = []\n",
    "\n",
    "    def load(self, pathToFolder, verbose=False):\n",
    "        data = []\n",
    "        labels = []\n",
    "\n",
    "        folder = Path(pathToFolder)\n",
    "\n",
    "        for classFolder in folder.iterdir():\n",
    "            if not classFolder.is_dir():\n",
    "                raise ValueError(\n",
    "                    \"Data Loader Error: Inappropriate folder structure. File found at first level\")\n",
    "\n",
    "            # os.path.split splits the path into head and tail, tail being just the folder name.\n",
    "            label = os.path.split(classFolder)[1]\n",
    "            for datapoint in classFolder.iterdir():\n",
    "                if datapoint.is_dir():\n",
    "                    raise ValueError(\n",
    "                        \"Data Loader Error: Inapprpriate folder structure. Folder found at second level\")\n",
    "\n",
    "                image = cv2.imread(str(datapoint))\n",
    "\n",
    "                if image is None:\n",
    "                    raise ValueError(str(datapoint) + \" is corrupted\")\n",
    "                for preprocessor in self.preprocessors:\n",
    "                    image = preprocessor.process(image)\n",
    "\n",
    "                if verbose:\n",
    "                    print(\"[INFO] Loading image: \" + str(datapoint))\n",
    "                data.append(image)\n",
    "                labels.append(label)\n",
    "\n",
    "        return (np.array(data), np.array(labels))\n",
    "\n",
    "\n"
   ]
  },
  {
   "cell_type": "code",
   "execution_count": 5,
   "metadata": {
    "colab": {
     "base_uri": "https://localhost:8080/",
     "height": 35
    },
    "colab_type": "code",
    "id": "QGxabzCrlj-m",
    "outputId": "32533f2e-f5b9-4d59-a721-617ac3764427"
   },
   "outputs": [
    {
     "name": "stderr",
     "output_type": "stream",
     "text": [
      "Using TensorFlow backend.\n"
     ]
    }
   ],
   "source": [
    "from keras.preprocessing.image import img_to_array\n",
    "\n",
    "\n",
    "class ImageToArrayPreprocessor:\n",
    "    def __init__(self, dataFormat = None):\n",
    "        self.dataFormat = dataFormat\n",
    "\n",
    "    def process(self, image):\n",
    "        return img_to_array(image, data_format=self.dataFormat)"
   ]
  },
  {
   "cell_type": "code",
   "execution_count": 6,
   "metadata": {
    "colab": {
     "base_uri": "https://localhost:8080/",
     "height": 35
    },
    "colab_type": "code",
    "id": "HzBXGzpFlmf4",
    "outputId": "867930c2-7be4-47e0-bdf9-e79f072421aa"
   },
   "outputs": [
    {
     "name": "stdout",
     "output_type": "stream",
     "text": [
      "Drive already mounted at /content/drive; to attempt to forcibly remount, call drive.mount(\"/content/drive\", force_remount=True).\n"
     ]
    }
   ],
   "source": [
    "from google.colab import drive\n",
    "drive.mount('/content/drive')"
   ]
  },
  {
   "cell_type": "code",
   "execution_count": 7,
   "metadata": {
    "colab": {
     "base_uri": "https://localhost:8080/",
     "height": 35
    },
    "colab_type": "code",
    "id": "yJaM-QFXloQ6",
    "outputId": "0ab21c66-7f42-4284-a733-02377d031cc9"
   },
   "outputs": [
    {
     "name": "stdout",
     "output_type": "stream",
     "text": [
      "/content/drive/My Drive\n"
     ]
    }
   ],
   "source": [
    "cd \"drive/My Drive\""
   ]
  },
  {
   "cell_type": "code",
   "execution_count": 0,
   "metadata": {
    "colab": {},
    "colab_type": "code",
    "id": "iCvbHgnUiksm"
   },
   "outputs": [],
   "source": [
    "sp = Preprocessor(24,24)\n",
    "iap = ImageToArrayPreprocessor()\n",
    "sdl = Dataloader(preprocessors=[sp, iap])"
   ]
  },
  {
   "cell_type": "code",
   "execution_count": 11,
   "metadata": {
    "colab": {
     "base_uri": "https://localhost:8080/",
     "height": 54
    },
    "colab_type": "code",
    "id": "eFYjFg31iksx",
    "outputId": "86497c43-cd27-41bd-e3b4-0437a8e91341"
   },
   "outputs": [
    {
     "name": "stdout",
     "output_type": "stream",
     "text": [
      "CPU times: user 2.09 s, sys: 2.05 s, total: 4.14 s\n",
      "Wall time: 18.1 s\n"
     ]
    }
   ],
   "source": [
    "%%time\n",
    "(data, labels) =  sdl.load(\"eyes\")"
   ]
  },
  {
   "cell_type": "code",
   "execution_count": 0,
   "metadata": {
    "colab": {},
    "colab_type": "code",
    "id": "TOFtaGfPiks7"
   },
   "outputs": [],
   "source": [
    "labels = labels.reshape(labels.shape[0], 1)"
   ]
  },
  {
   "cell_type": "code",
   "execution_count": 13,
   "metadata": {
    "colab": {
     "base_uri": "https://localhost:8080/",
     "height": 54
    },
    "colab_type": "code",
    "id": "ztas61ryiktB",
    "outputId": "7bcbf41b-88c0-42d1-9bd4-3c53be9a1418"
   },
   "outputs": [
    {
     "name": "stdout",
     "output_type": "stream",
     "text": [
      "(4846, 24, 24, 3)\n",
      "(4846, 1)\n"
     ]
    }
   ],
   "source": [
    "print(data.shape)\n",
    "print(labels.shape)"
   ]
  },
  {
   "cell_type": "code",
   "execution_count": 0,
   "metadata": {
    "colab": {},
    "colab_type": "code",
    "id": "ox38Q8G0iktL"
   },
   "outputs": [],
   "source": [
    "data = data / 255.0"
   ]
  },
  {
   "cell_type": "code",
   "execution_count": 15,
   "metadata": {
    "colab": {
     "base_uri": "https://localhost:8080/",
     "height": 35
    },
    "colab_type": "code",
    "id": "nPF5J-okiktW",
    "outputId": "a2beb783-02ea-46a9-c169-b8555427496c"
   },
   "outputs": [
    {
     "name": "stdout",
     "output_type": "stream",
     "text": [
      "[0.22352941 0.22352941 0.22352941]\n"
     ]
    }
   ],
   "source": [
    "print(data[0][0][0])"
   ]
  },
  {
   "cell_type": "code",
   "execution_count": 0,
   "metadata": {
    "colab": {},
    "colab_type": "code",
    "id": "kq8kVyGiiktf"
   },
   "outputs": [],
   "source": [
    "lb = LabelBinarizer()\n",
    "labels = lb.fit_transform(labels)"
   ]
  },
  {
   "cell_type": "code",
   "execution_count": 0,
   "metadata": {
    "colab": {},
    "colab_type": "code",
    "id": "yvDDOx2Ziktk"
   },
   "outputs": [],
   "source": [
    "from keras.models import Sequential\n",
    "from keras.layers.convolutional import Conv2D\n",
    "from keras.layers.convolutional import MaxPooling2D\n",
    "from keras.layers.core import Dropout\n",
    "from keras.layers.core import Activation\n",
    "from keras.layers.core import Flatten\n",
    "from keras.layers.core import Dense\n",
    "from keras import backend as keras_backend\n",
    "from keras.optimizers import SGD"
   ]
  },
  {
   "cell_type": "code",
   "execution_count": 0,
   "metadata": {
    "colab": {},
    "colab_type": "code",
    "id": "0IKnDdRBikto"
   },
   "outputs": [],
   "source": [
    "class ShallowNet:\n",
    "    @staticmethod\n",
    "    def build(width, height, depth, classes):\n",
    "        model = Sequential()\n",
    "        inputShape = (height, width, depth)\n",
    "        \n",
    "        if keras_backend.image_data_format() == \"channels_first\":\n",
    "            inputShape = (depth, height, width)\n",
    "        \n",
    "        model.add(Conv2D(32, (3,3), padding=\"same\", input_shape = inputShape))\n",
    "        model.add(Activation(\"relu\"))\n",
    "        model.add(Flatten())\n",
    "        model.add(Dense(classes))\n",
    "        model.add(Activation(\"sigmoid\"))\n",
    "        \n",
    "        return model"
   ]
  },
  {
   "cell_type": "code",
   "execution_count": 0,
   "metadata": {
    "colab": {},
    "colab_type": "code",
    "id": "M97t4G7QqIiL"
   },
   "outputs": [],
   "source": [
    "class NoNet:\n",
    "    @staticmethod\n",
    "    def build(width, height, depth, classes):\n",
    "        inputShape = (height, width, depth)\n",
    "        \n",
    "        if keras_backend.image_data_format() == \"channels_first\":\n",
    "            inputShape = (depth, height, width)\n",
    "        model = Sequential([\n",
    "            Conv2D(32, kernel_size=(3, 3), activation='relu',\n",
    "                   input_shape= inputShape),\n",
    "            MaxPooling2D(pool_size=(1, 1)),\n",
    "            # 32 convolution filters used each of size 3x3\n",
    "            # again\n",
    "            Conv2D(64, (3, 3), activation='relu'),\n",
    "            MaxPooling2D(pool_size=(1, 1)),\n",
    "\n",
    "            # 64 convolution filters used each of size 3x3\n",
    "            # choose the best features via pooling\n",
    "\n",
    "            # randomly turn neurons on and off to improve convergence\n",
    "            Dropout(0.5),\n",
    "            # flatten since too many dimensions, we only want a classification output\n",
    "            Flatten(),\n",
    "            # fully connected to get all relevant data\n",
    "            Dense(128, activation='relu'),\n",
    "            # one more dropout for convergence' sake :)\n",
    "            Dropout(0.5),\n",
    "            # output a softmax to squash the matrix into output probabilities\n",
    "            Dense(classes, activation='sigmoid')\n",
    "        ])\n",
    "\n",
    "        return model"
   ]
  },
  {
   "cell_type": "code",
   "execution_count": 0,
   "metadata": {
    "colab": {},
    "colab_type": "code",
    "id": "9yMStZeRiktt"
   },
   "outputs": [],
   "source": [
    "trainX, testX, trainY, testY = train_test_split(data, labels, test_size = 0.25, random_state=42)"
   ]
  },
  {
   "cell_type": "code",
   "execution_count": 0,
   "metadata": {
    "colab": {},
    "colab_type": "code",
    "id": "cPKrh8Plikty"
   },
   "outputs": [],
   "source": [
    "opt = SGD(lr=0.005)\n",
    "model = NoNet.build(24,24, 3, 1)\n",
    "model.compile(loss=\"binary_crossentropy\", optimizer=opt,metrics=[\"accuracy\"])"
   ]
  },
  {
   "cell_type": "code",
   "execution_count": 23,
   "metadata": {
    "colab": {
     "base_uri": "https://localhost:8080/",
     "height": 1000
    },
    "colab_type": "code",
    "id": "IjXYeCJftSTn",
    "outputId": "8da545c3-d565-44c3-f5fd-fc0b5e917c7d"
   },
   "outputs": [
    {
     "name": "stdout",
     "output_type": "stream",
     "text": [
      "Train on 3634 samples, validate on 1212 samples\n",
      "Epoch 1/100\n",
      "3634/3634 [==============================] - 7s 2ms/step - loss: 0.6836 - accuracy: 0.5405 - val_loss: 0.6581 - val_accuracy: 0.6683\n",
      "Epoch 2/100\n",
      "3634/3634 [==============================] - 1s 184us/step - loss: 0.6503 - accuracy: 0.6346 - val_loss: 0.6134 - val_accuracy: 0.6782\n",
      "Epoch 3/100\n",
      "3634/3634 [==============================] - 1s 186us/step - loss: 0.6144 - accuracy: 0.6767 - val_loss: 0.5611 - val_accuracy: 0.7731\n",
      "Epoch 4/100\n",
      "3634/3634 [==============================] - 1s 188us/step - loss: 0.5719 - accuracy: 0.7221 - val_loss: 0.5188 - val_accuracy: 0.7805\n",
      "Epoch 5/100\n",
      "3634/3634 [==============================] - 1s 187us/step - loss: 0.5395 - accuracy: 0.7345 - val_loss: 0.4910 - val_accuracy: 0.7789\n",
      "Epoch 6/100\n",
      "3634/3634 [==============================] - 1s 199us/step - loss: 0.5068 - accuracy: 0.7565 - val_loss: 0.4611 - val_accuracy: 0.7970\n",
      "Epoch 7/100\n",
      "3634/3634 [==============================] - 1s 221us/step - loss: 0.4873 - accuracy: 0.7716 - val_loss: 0.4563 - val_accuracy: 0.7937\n",
      "Epoch 8/100\n",
      "3634/3634 [==============================] - 1s 188us/step - loss: 0.4568 - accuracy: 0.7909 - val_loss: 0.4074 - val_accuracy: 0.8267\n",
      "Epoch 9/100\n",
      "3634/3634 [==============================] - 1s 212us/step - loss: 0.4375 - accuracy: 0.8021 - val_loss: 0.3849 - val_accuracy: 0.8441\n",
      "Epoch 10/100\n",
      "3634/3634 [==============================] - 1s 211us/step - loss: 0.4213 - accuracy: 0.8184 - val_loss: 0.3756 - val_accuracy: 0.8432\n",
      "Epoch 11/100\n",
      "3634/3634 [==============================] - 1s 211us/step - loss: 0.4060 - accuracy: 0.8176 - val_loss: 0.3515 - val_accuracy: 0.8581\n",
      "Epoch 12/100\n",
      "3634/3634 [==============================] - 1s 219us/step - loss: 0.3916 - accuracy: 0.8283 - val_loss: 0.3425 - val_accuracy: 0.8630\n",
      "Epoch 13/100\n",
      "3634/3634 [==============================] - 1s 207us/step - loss: 0.3720 - accuracy: 0.8374 - val_loss: 0.3247 - val_accuracy: 0.8680\n",
      "Epoch 14/100\n",
      "3634/3634 [==============================] - 1s 214us/step - loss: 0.3615 - accuracy: 0.8484 - val_loss: 0.3131 - val_accuracy: 0.8771\n",
      "Epoch 15/100\n",
      "3634/3634 [==============================] - 1s 217us/step - loss: 0.3534 - accuracy: 0.8476 - val_loss: 0.3031 - val_accuracy: 0.8837\n",
      "Epoch 16/100\n",
      "3634/3634 [==============================] - 1s 206us/step - loss: 0.3314 - accuracy: 0.8643 - val_loss: 0.2949 - val_accuracy: 0.8837\n",
      "Epoch 17/100\n",
      "3634/3634 [==============================] - 1s 190us/step - loss: 0.3203 - accuracy: 0.8671 - val_loss: 0.2838 - val_accuracy: 0.8903\n",
      "Epoch 18/100\n",
      "3634/3634 [==============================] - 1s 217us/step - loss: 0.3200 - accuracy: 0.8712 - val_loss: 0.2786 - val_accuracy: 0.8919\n",
      "Epoch 19/100\n",
      "3634/3634 [==============================] - 1s 185us/step - loss: 0.3057 - accuracy: 0.8781 - val_loss: 0.2676 - val_accuracy: 0.8944\n",
      "Epoch 20/100\n",
      "3634/3634 [==============================] - 1s 204us/step - loss: 0.2961 - accuracy: 0.8817 - val_loss: 0.2622 - val_accuracy: 0.9002\n",
      "Epoch 21/100\n",
      "3634/3634 [==============================] - 1s 186us/step - loss: 0.2905 - accuracy: 0.8811 - val_loss: 0.2613 - val_accuracy: 0.8969\n",
      "Epoch 22/100\n",
      "3634/3634 [==============================] - 1s 184us/step - loss: 0.2807 - accuracy: 0.8910 - val_loss: 0.2464 - val_accuracy: 0.9117\n",
      "Epoch 23/100\n",
      "3634/3634 [==============================] - 1s 205us/step - loss: 0.2769 - accuracy: 0.8897 - val_loss: 0.2447 - val_accuracy: 0.9076\n",
      "Epoch 24/100\n",
      "3634/3634 [==============================] - 1s 182us/step - loss: 0.2656 - accuracy: 0.8982 - val_loss: 0.2357 - val_accuracy: 0.9142\n",
      "Epoch 25/100\n",
      "3634/3634 [==============================] - 1s 192us/step - loss: 0.2650 - accuracy: 0.8976 - val_loss: 0.2563 - val_accuracy: 0.8969\n",
      "Epoch 26/100\n",
      "3634/3634 [==============================] - 1s 186us/step - loss: 0.2555 - accuracy: 0.9042 - val_loss: 0.2295 - val_accuracy: 0.9167\n",
      "Epoch 27/100\n",
      "3634/3634 [==============================] - 1s 208us/step - loss: 0.2535 - accuracy: 0.8993 - val_loss: 0.2248 - val_accuracy: 0.9134\n",
      "Epoch 28/100\n",
      "3634/3634 [==============================] - 1s 190us/step - loss: 0.2465 - accuracy: 0.9048 - val_loss: 0.2382 - val_accuracy: 0.9068\n",
      "Epoch 29/100\n",
      "3634/3634 [==============================] - 1s 213us/step - loss: 0.2464 - accuracy: 0.9031 - val_loss: 0.2162 - val_accuracy: 0.9142\n",
      "Epoch 30/100\n",
      "3634/3634 [==============================] - 1s 185us/step - loss: 0.2400 - accuracy: 0.9051 - val_loss: 0.2127 - val_accuracy: 0.9224\n",
      "Epoch 31/100\n",
      "3634/3634 [==============================] - 1s 205us/step - loss: 0.2337 - accuracy: 0.9075 - val_loss: 0.2066 - val_accuracy: 0.9158\n",
      "Epoch 32/100\n",
      "3634/3634 [==============================] - 1s 213us/step - loss: 0.2307 - accuracy: 0.9139 - val_loss: 0.2218 - val_accuracy: 0.9167\n",
      "Epoch 33/100\n",
      "3634/3634 [==============================] - 1s 186us/step - loss: 0.2203 - accuracy: 0.9177 - val_loss: 0.1996 - val_accuracy: 0.9216\n",
      "Epoch 34/100\n",
      "3634/3634 [==============================] - 1s 195us/step - loss: 0.2214 - accuracy: 0.9174 - val_loss: 0.2015 - val_accuracy: 0.9249\n",
      "Epoch 35/100\n",
      "3634/3634 [==============================] - 1s 214us/step - loss: 0.2174 - accuracy: 0.9136 - val_loss: 0.1930 - val_accuracy: 0.9216\n",
      "Epoch 36/100\n",
      "3634/3634 [==============================] - 1s 201us/step - loss: 0.2151 - accuracy: 0.9194 - val_loss: 0.1939 - val_accuracy: 0.9282\n",
      "Epoch 37/100\n",
      "3634/3634 [==============================] - 1s 195us/step - loss: 0.2103 - accuracy: 0.9227 - val_loss: 0.1888 - val_accuracy: 0.9274\n",
      "Epoch 38/100\n",
      "3634/3634 [==============================] - 1s 199us/step - loss: 0.2090 - accuracy: 0.9185 - val_loss: 0.1867 - val_accuracy: 0.9299\n",
      "Epoch 39/100\n",
      "3634/3634 [==============================] - 1s 195us/step - loss: 0.1989 - accuracy: 0.9232 - val_loss: 0.1981 - val_accuracy: 0.9299\n",
      "Epoch 40/100\n",
      "3634/3634 [==============================] - 1s 219us/step - loss: 0.1985 - accuracy: 0.9194 - val_loss: 0.1818 - val_accuracy: 0.9323\n",
      "Epoch 41/100\n",
      "3634/3634 [==============================] - 1s 217us/step - loss: 0.2004 - accuracy: 0.9235 - val_loss: 0.1872 - val_accuracy: 0.9332\n",
      "Epoch 42/100\n",
      "3634/3634 [==============================] - 1s 257us/step - loss: 0.1894 - accuracy: 0.9298 - val_loss: 0.1767 - val_accuracy: 0.9315\n",
      "Epoch 43/100\n",
      "3634/3634 [==============================] - 1s 226us/step - loss: 0.1916 - accuracy: 0.9276 - val_loss: 0.1719 - val_accuracy: 0.9290\n",
      "Epoch 44/100\n",
      "3634/3634 [==============================] - 1s 192us/step - loss: 0.1872 - accuracy: 0.9263 - val_loss: 0.1838 - val_accuracy: 0.9307\n",
      "Epoch 45/100\n",
      "3634/3634 [==============================] - 1s 225us/step - loss: 0.1843 - accuracy: 0.9296 - val_loss: 0.1700 - val_accuracy: 0.9307\n",
      "Epoch 46/100\n",
      "3634/3634 [==============================] - 1s 182us/step - loss: 0.1830 - accuracy: 0.9362 - val_loss: 0.1702 - val_accuracy: 0.9373\n",
      "Epoch 47/100\n",
      "3634/3634 [==============================] - 1s 222us/step - loss: 0.1786 - accuracy: 0.9318 - val_loss: 0.1670 - val_accuracy: 0.9340\n",
      "Epoch 48/100\n",
      "3634/3634 [==============================] - 1s 219us/step - loss: 0.1782 - accuracy: 0.9298 - val_loss: 0.1730 - val_accuracy: 0.9266\n",
      "Epoch 49/100\n",
      "3634/3634 [==============================] - 1s 207us/step - loss: 0.1763 - accuracy: 0.9373 - val_loss: 0.1686 - val_accuracy: 0.9307\n",
      "Epoch 50/100\n",
      "3634/3634 [==============================] - 1s 211us/step - loss: 0.1713 - accuracy: 0.9364 - val_loss: 0.1828 - val_accuracy: 0.9323\n",
      "Epoch 51/100\n",
      "3634/3634 [==============================] - 1s 194us/step - loss: 0.1729 - accuracy: 0.9342 - val_loss: 0.1583 - val_accuracy: 0.9398\n",
      "Epoch 52/100\n",
      "3634/3634 [==============================] - 1s 189us/step - loss: 0.1679 - accuracy: 0.9370 - val_loss: 0.1571 - val_accuracy: 0.9414\n",
      "Epoch 53/100\n",
      "3634/3634 [==============================] - 1s 218us/step - loss: 0.1657 - accuracy: 0.9370 - val_loss: 0.1548 - val_accuracy: 0.9414\n",
      "Epoch 54/100\n",
      "3634/3634 [==============================] - 1s 185us/step - loss: 0.1683 - accuracy: 0.9351 - val_loss: 0.1569 - val_accuracy: 0.9431\n",
      "Epoch 55/100\n",
      "3634/3634 [==============================] - 1s 198us/step - loss: 0.1666 - accuracy: 0.9329 - val_loss: 0.1601 - val_accuracy: 0.9381\n",
      "Epoch 56/100\n",
      "3634/3634 [==============================] - 1s 207us/step - loss: 0.1618 - accuracy: 0.9375 - val_loss: 0.1527 - val_accuracy: 0.9431\n",
      "Epoch 57/100\n",
      "3634/3634 [==============================] - 1s 187us/step - loss: 0.1568 - accuracy: 0.9422 - val_loss: 0.1517 - val_accuracy: 0.9422\n",
      "Epoch 58/100\n",
      "3634/3634 [==============================] - 1s 210us/step - loss: 0.1569 - accuracy: 0.9411 - val_loss: 0.1492 - val_accuracy: 0.9464\n",
      "Epoch 59/100\n",
      "3634/3634 [==============================] - 1s 185us/step - loss: 0.1582 - accuracy: 0.9386 - val_loss: 0.1481 - val_accuracy: 0.9464\n",
      "Epoch 60/100\n",
      "3634/3634 [==============================] - 1s 220us/step - loss: 0.1575 - accuracy: 0.9408 - val_loss: 0.1519 - val_accuracy: 0.9464\n",
      "Epoch 61/100\n",
      "3634/3634 [==============================] - 1s 185us/step - loss: 0.1522 - accuracy: 0.9428 - val_loss: 0.1458 - val_accuracy: 0.9439\n",
      "Epoch 62/100\n",
      "3634/3634 [==============================] - 1s 208us/step - loss: 0.1481 - accuracy: 0.9428 - val_loss: 0.1476 - val_accuracy: 0.9464\n",
      "Epoch 63/100\n",
      "3634/3634 [==============================] - 1s 183us/step - loss: 0.1467 - accuracy: 0.9430 - val_loss: 0.1511 - val_accuracy: 0.9439\n",
      "Epoch 64/100\n",
      "3634/3634 [==============================] - 1s 193us/step - loss: 0.1478 - accuracy: 0.9425 - val_loss: 0.1587 - val_accuracy: 0.9381\n",
      "Epoch 65/100\n",
      "3634/3634 [==============================] - 1s 205us/step - loss: 0.1464 - accuracy: 0.9433 - val_loss: 0.1406 - val_accuracy: 0.9488\n",
      "Epoch 66/100\n",
      "3634/3634 [==============================] - 1s 212us/step - loss: 0.1425 - accuracy: 0.9436 - val_loss: 0.1394 - val_accuracy: 0.9480\n",
      "Epoch 67/100\n",
      "3634/3634 [==============================] - 1s 206us/step - loss: 0.1413 - accuracy: 0.9433 - val_loss: 0.1432 - val_accuracy: 0.9488\n",
      "Epoch 68/100\n",
      "3634/3634 [==============================] - 1s 210us/step - loss: 0.1370 - accuracy: 0.9499 - val_loss: 0.1457 - val_accuracy: 0.9373\n",
      "Epoch 69/100\n",
      "3634/3634 [==============================] - 1s 208us/step - loss: 0.1383 - accuracy: 0.9463 - val_loss: 0.1399 - val_accuracy: 0.9431\n",
      "Epoch 70/100\n",
      "3634/3634 [==============================] - 1s 190us/step - loss: 0.1374 - accuracy: 0.9494 - val_loss: 0.1427 - val_accuracy: 0.9455\n",
      "Epoch 71/100\n",
      "3634/3634 [==============================] - 1s 191us/step - loss: 0.1304 - accuracy: 0.9513 - val_loss: 0.1409 - val_accuracy: 0.9505\n",
      "Epoch 72/100\n",
      "3634/3634 [==============================] - 1s 192us/step - loss: 0.1327 - accuracy: 0.9496 - val_loss: 0.1412 - val_accuracy: 0.9488\n",
      "Epoch 73/100\n",
      "3634/3634 [==============================] - 1s 216us/step - loss: 0.1311 - accuracy: 0.9524 - val_loss: 0.1383 - val_accuracy: 0.9497\n",
      "Epoch 74/100\n",
      "3634/3634 [==============================] - 1s 192us/step - loss: 0.1293 - accuracy: 0.9469 - val_loss: 0.1371 - val_accuracy: 0.9455\n",
      "Epoch 75/100\n",
      "3634/3634 [==============================] - 1s 186us/step - loss: 0.1259 - accuracy: 0.9505 - val_loss: 0.1383 - val_accuracy: 0.9488\n",
      "Epoch 76/100\n",
      "3634/3634 [==============================] - 1s 196us/step - loss: 0.1368 - accuracy: 0.9455 - val_loss: 0.1351 - val_accuracy: 0.9488\n",
      "Epoch 77/100\n",
      "3634/3634 [==============================] - 1s 189us/step - loss: 0.1310 - accuracy: 0.9494 - val_loss: 0.1331 - val_accuracy: 0.9513\n",
      "Epoch 78/100\n",
      "3634/3634 [==============================] - 1s 201us/step - loss: 0.1305 - accuracy: 0.9472 - val_loss: 0.1364 - val_accuracy: 0.9480\n",
      "Epoch 79/100\n",
      "3634/3634 [==============================] - 1s 197us/step - loss: 0.1230 - accuracy: 0.9551 - val_loss: 0.1371 - val_accuracy: 0.9513\n",
      "Epoch 80/100\n",
      "3634/3634 [==============================] - 1s 209us/step - loss: 0.1290 - accuracy: 0.9488 - val_loss: 0.1328 - val_accuracy: 0.9513\n",
      "Epoch 81/100\n",
      "3634/3634 [==============================] - 1s 195us/step - loss: 0.1267 - accuracy: 0.9513 - val_loss: 0.1385 - val_accuracy: 0.9488\n",
      "Epoch 82/100\n",
      "3634/3634 [==============================] - 1s 196us/step - loss: 0.1230 - accuracy: 0.9518 - val_loss: 0.1307 - val_accuracy: 0.9513\n",
      "Epoch 83/100\n",
      "3634/3634 [==============================] - 1s 186us/step - loss: 0.1259 - accuracy: 0.9527 - val_loss: 0.1351 - val_accuracy: 0.9488\n",
      "Epoch 84/100\n",
      "3634/3634 [==============================] - 1s 197us/step - loss: 0.1181 - accuracy: 0.9557 - val_loss: 0.1349 - val_accuracy: 0.9521\n",
      "Epoch 85/100\n",
      "3634/3634 [==============================] - 1s 188us/step - loss: 0.1183 - accuracy: 0.9560 - val_loss: 0.1642 - val_accuracy: 0.9406\n",
      "Epoch 86/100\n",
      "3634/3634 [==============================] - 1s 192us/step - loss: 0.1248 - accuracy: 0.9483 - val_loss: 0.1294 - val_accuracy: 0.9546\n",
      "Epoch 87/100\n",
      "3634/3634 [==============================] - 1s 192us/step - loss: 0.1183 - accuracy: 0.9505 - val_loss: 0.1358 - val_accuracy: 0.9513\n",
      "Epoch 88/100\n",
      "3634/3634 [==============================] - 1s 187us/step - loss: 0.1120 - accuracy: 0.9590 - val_loss: 0.1335 - val_accuracy: 0.9472\n",
      "Epoch 89/100\n",
      "3634/3634 [==============================] - 1s 193us/step - loss: 0.1153 - accuracy: 0.9532 - val_loss: 0.1303 - val_accuracy: 0.9538\n",
      "Epoch 90/100\n",
      "3634/3634 [==============================] - 1s 188us/step - loss: 0.1114 - accuracy: 0.9557 - val_loss: 0.1274 - val_accuracy: 0.9521\n",
      "Epoch 91/100\n",
      "3634/3634 [==============================] - 1s 233us/step - loss: 0.1118 - accuracy: 0.9562 - val_loss: 0.1244 - val_accuracy: 0.9521\n",
      "Epoch 92/100\n",
      "3634/3634 [==============================] - 1s 195us/step - loss: 0.1102 - accuracy: 0.9576 - val_loss: 0.1306 - val_accuracy: 0.9513\n",
      "Epoch 93/100\n",
      "3634/3634 [==============================] - 1s 189us/step - loss: 0.1087 - accuracy: 0.9576 - val_loss: 0.1345 - val_accuracy: 0.9530\n",
      "Epoch 94/100\n",
      "3634/3634 [==============================] - 1s 214us/step - loss: 0.1088 - accuracy: 0.9582 - val_loss: 0.1289 - val_accuracy: 0.9521\n",
      "Epoch 95/100\n",
      "3634/3634 [==============================] - 1s 182us/step - loss: 0.1114 - accuracy: 0.9551 - val_loss: 0.1299 - val_accuracy: 0.9530\n",
      "Epoch 96/100\n",
      "3634/3634 [==============================] - 1s 191us/step - loss: 0.1071 - accuracy: 0.9584 - val_loss: 0.1490 - val_accuracy: 0.9389\n",
      "Epoch 97/100\n",
      "3634/3634 [==============================] - 1s 214us/step - loss: 0.1134 - accuracy: 0.9568 - val_loss: 0.1322 - val_accuracy: 0.9505\n",
      "Epoch 98/100\n",
      "3634/3634 [==============================] - 1s 231us/step - loss: 0.1052 - accuracy: 0.9601 - val_loss: 0.1344 - val_accuracy: 0.9497\n",
      "Epoch 99/100\n",
      "3634/3634 [==============================] - 1s 196us/step - loss: 0.1061 - accuracy: 0.9582 - val_loss: 0.1236 - val_accuracy: 0.9521\n",
      "Epoch 100/100\n",
      "3634/3634 [==============================] - 1s 182us/step - loss: 0.1035 - accuracy: 0.9601 - val_loss: 0.1310 - val_accuracy: 0.9538\n"
     ]
    }
   ],
   "source": [
    "H = model.fit(trainX, trainY, validation_data=(testX, testY), batch_size=32, epochs=100, verbose=1)"
   ]
  },
  {
   "cell_type": "code",
   "execution_count": 24,
   "metadata": {
    "colab": {
     "base_uri": "https://localhost:8080/",
     "height": 299
    },
    "colab_type": "code",
    "id": "hB4A9GLvikt8",
    "outputId": "49b8bcc2-f360-4823-976d-ca4a55012016"
   },
   "outputs": [
    {
     "data": {
      "image/png": "[encoded data removed]",
      "text/plain": [
       "<Figure size 432x288 with 1 Axes>"
      ]
     },
     "metadata": {
      "tags": []
     },
     "output_type": "display_data"
    }
   ],
   "source": [
    "import matplotlib.pyplot as plt\n",
    "plt.style.use(\"ggplot\")\n",
    "plt.figure()\n",
    "plt.plot(np.arange(0, 100), H.history[\"loss\"], label=\"train_loss\")\n",
    "plt.plot(np.arange(0, 100), H.history[\"val_loss\"], label=\"val_loss\")\n",
    "plt.plot(np.arange(0, 100), H.history[\"accuracy\"], label=\"train_acc\")\n",
    "plt.plot(np.arange(0, 100), H.history[\"val_accuracy\"], label=\"val_acc\")\n",
    "plt.title(\"Training Loss and Accuracy\")\n",
    "plt.xlabel(\"Epoch #\")\n",
    "plt.ylabel(\"Loss/Accuracy\")\n",
    "plt.legend()\n",
    "plt.show()"
   ]
  },
  {
   "cell_type": "code",
   "execution_count": 0,
   "metadata": {
    "colab": {},
    "colab_type": "code",
    "id": "rhCaBt2RikuB"
   },
   "outputs": [],
   "source": [
    "model.save(\"dddshallow.hdf5\")"
   ]
  }
 ],
 "metadata": {
  "accelerator": "GPU",
  "colab": {
   "collapsed_sections": [],
   "name": "DDD-Shallow.ipynb",
   "provenance": []
  },
  "kernelspec": {
   "display_name": "Python 3",
   "language": "python",
   "name": "python3"
  },
  "language_info": {
   "codemirror_mode": {
    "name": "ipython",
    "version": 3
   },
   "file_extension": ".py",
   "mimetype": "text/x-python",
   "name": "python",
   "nbconvert_exporter": "python",
   "pygments_lexer": "ipython3",
   "version": "3.7.6"
  }
 },
 "nbformat": 4,
 "nbformat_minor": 1
}
